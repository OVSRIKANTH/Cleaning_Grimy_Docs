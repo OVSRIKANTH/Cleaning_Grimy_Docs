{
  "nbformat": 4,
  "nbformat_minor": 0,
  "metadata": {
    "colab": {
      "name": "Final CNN Stacker w/o AT.ipynb",
      "provenance": [],
      "collapsed_sections": [],
      "toc_visible": true
    },
    "kernelspec": {
      "name": "python3",
      "display_name": "Python 3"
    },
    "language_info": {
      "name": "python"
    },
    "accelerator": "GPU"
  },
  "cells": [
    {
      "cell_type": "code",
      "metadata": {
        "colab": {
          "base_uri": "https://localhost:8080/"
        },
        "id": "XfmMS9IRRx_Y",
        "outputId": "0016b788-21a3-4bd0-eb07-2a56f4c5c512"
      },
      "source": [
        "from google.colab import drive\n",
        "drive.mount('/content/drive')"
      ],
      "execution_count": 1,
      "outputs": [
        {
          "output_type": "stream",
          "text": [
            "Mounted at /content/drive\n"
          ],
          "name": "stdout"
        }
      ]
    },
    {
      "cell_type": "code",
      "metadata": {
        "id": "voKJgQF7SLXf"
      },
      "source": [
        "import numpy as np\n",
        "import cv2\n",
        "import os\n",
        "from scipy import signal\n",
        "import skimage.filters\n",
        "import matplotlib.pyplot as plt\n",
        "from keras.layers import Dense,Conv2D,Flatten,MaxPooling2D,UpSampling2D,InputLayer,Reshape,Activation, BatchNormalization, LeakyReLU\n",
        "from keras.models import Sequential\n",
        "from keras.preprocessing.image import load_img, img_to_array, array_to_img\n",
        "from tensorflow.keras import activations\n",
        "from keras import optimizers\n",
        "from sklearn.model_selection import train_test_split\n",
        "import tensorflow as tf"
      ],
      "execution_count": 2,
      "outputs": []
    },
    {
      "cell_type": "markdown",
      "metadata": {
        "id": "tYeMgrKkJ3ZN"
      },
      "source": [
        "## Preprocessing"
      ]
    },
    {
      "cell_type": "code",
      "metadata": {
        "id": "LQ_k5YCCSbmc"
      },
      "source": [
        "x_data = []\n",
        "y_data = []\n",
        "\n",
        "def loadmydata():\n",
        "    for item in os.listdir('/content/drive/MyDrive/Explomy/Final_data/x_train'):\n",
        "\n",
        "        os.chdir('/content/drive/MyDrive/Explomy/Final_data/x_train')\n",
        "        img = load_img(item)\n",
        "        #img = img.resize((540,258)) \n",
        "        arr = img_to_array(img)\n",
        "        x_data.append(arr)\n",
        "\n",
        "        os.chdir('/content/drive/MyDrive/Explomy/Final_data/y_train')\n",
        "        img = load_img(item)\n",
        "        #img = img.resize((540,258))\n",
        "        arr = img_to_array(img)\n",
        "        y_data.append(arr)  \n",
        "\n",
        "loadmydata()\n",
        "\n",
        "x_data = tf.image.rgb_to_grayscale(x_data)\n",
        "y_data = tf.image.rgb_to_grayscale(y_data)"
      ],
      "execution_count": 3,
      "outputs": []
    },
    {
      "cell_type": "code",
      "metadata": {
        "colab": {
          "base_uri": "https://localhost:8080/"
        },
        "id": "ZBVcBrVIScKm",
        "outputId": "512db3f6-c945-4ffe-d207-684e79ecf22b"
      },
      "source": [
        "print(x_data[0].shape, y_data[0].shape)\n",
        "x_data.shape"
      ],
      "execution_count": 4,
      "outputs": [
        {
          "output_type": "stream",
          "text": [
            "(258, 540, 1) (258, 540, 1)\n"
          ],
          "name": "stdout"
        },
        {
          "output_type": "execute_result",
          "data": {
            "text/plain": [
              "TensorShape([480, 258, 540, 1])"
            ]
          },
          "metadata": {
            "tags": []
          },
          "execution_count": 4
        }
      ]
    },
    {
      "cell_type": "code",
      "metadata": {
        "id": "nmMpPODfScNd"
      },
      "source": [
        "def preprocess(arr):\n",
        "    arr=np.asarray(arr,dtype=\"float32\")\n",
        "    arr2=arr/255\n",
        "    return arr2\n",
        "        \n",
        "\n",
        "x_train = preprocess(x_data)\n",
        "y_train = preprocess(y_data)"
      ],
      "execution_count": 5,
      "outputs": []
    },
    {
      "cell_type": "code",
      "metadata": {
        "colab": {
          "base_uri": "https://localhost:8080/"
        },
        "id": "10o9HmCxKlCK",
        "outputId": "1665d3ba-50e1-4572-ae56-de128e0440db"
      },
      "source": [
        "x_train.shape"
      ],
      "execution_count": 6,
      "outputs": [
        {
          "output_type": "execute_result",
          "data": {
            "text/plain": [
              "(480, 258, 540, 1)"
            ]
          },
          "metadata": {
            "tags": []
          },
          "execution_count": 6
        }
      ]
    },
    {
      "cell_type": "markdown",
      "metadata": {
        "id": "b0Npr8uXS4DG"
      },
      "source": [
        "## Applying Median Filter"
      ]
    },
    {
      "cell_type": "code",
      "metadata": {
        "id": "uVR91N8VSx7e"
      },
      "source": [
        "def medianfilter(inp):\n",
        "    bg = signal.medfilt2d(inp, 11)\n",
        "    mask = inp < bg - 0.1\n",
        "    return np.where(mask, inp, 1.0)"
      ],
      "execution_count": 7,
      "outputs": []
    },
    {
      "cell_type": "code",
      "metadata": {
        "id": "igv-IRAoSx-O"
      },
      "source": [
        "x_data_med = []\n",
        "\n",
        "x_t = np.squeeze(x_train)\n",
        "\n",
        "for i in range(len(x_train)):\n",
        "    arr = medianfilter(x_t[i])\n",
        "    x_data_med.append(arr)"
      ],
      "execution_count": 8,
      "outputs": []
    },
    {
      "cell_type": "code",
      "metadata": {
        "colab": {
          "base_uri": "https://localhost:8080/"
        },
        "id": "N71XpP40Uf7e",
        "outputId": "ca5d2f78-f3df-440b-843d-668944e7ee3e"
      },
      "source": [
        "x_data_med =np.array(x_data_med)\n",
        "x_data_med.shape"
      ],
      "execution_count": 9,
      "outputs": [
        {
          "output_type": "execute_result",
          "data": {
            "text/plain": [
              "(480, 258, 540)"
            ]
          },
          "metadata": {
            "tags": []
          },
          "execution_count": 9
        }
      ]
    },
    {
      "cell_type": "markdown",
      "metadata": {
        "id": "ZBXhJ6JAS-EP"
      },
      "source": [
        "## Applying Convolutional autoencoders"
      ]
    },
    {
      "cell_type": "code",
      "metadata": {
        "id": "pTQKJmm0TFo_"
      },
      "source": [
        "conv_ae_model = tf.keras.models.load_model('/content/drive/MyDrive/Explomy/my_model.h5')"
      ],
      "execution_count": 10,
      "outputs": []
    },
    {
      "cell_type": "code",
      "metadata": {
        "colab": {
          "base_uri": "https://localhost:8080/"
        },
        "id": "Hg1BRQPvTFzG",
        "outputId": "b07688be-ad85-44ef-f2aa-0ddc5cb3ba25"
      },
      "source": [
        "conv_ae_model.summary()"
      ],
      "execution_count": 11,
      "outputs": [
        {
          "output_type": "stream",
          "text": [
            "Model: \"sequential_1\"\n",
            "_________________________________________________________________\n",
            "Layer (type)                 Output Shape              Param #   \n",
            "=================================================================\n",
            "conv2d_5 (Conv2D)            (None, 258, 540, 128)     1280      \n",
            "_________________________________________________________________\n",
            "batch_normalization_2 (Batch (None, 258, 540, 128)     512       \n",
            "_________________________________________________________________\n",
            "activation_2 (Activation)    (None, 258, 540, 128)     0         \n",
            "_________________________________________________________________\n",
            "conv2d_6 (Conv2D)            (None, 258, 540, 128)     147584    \n",
            "_________________________________________________________________\n",
            "max_pooling2d_1 (MaxPooling2 (None, 129, 270, 128)     0         \n",
            "_________________________________________________________________\n",
            "conv2d_7 (Conv2D)            (None, 129, 270, 64)      73792     \n",
            "_________________________________________________________________\n",
            "batch_normalization_3 (Batch (None, 129, 270, 64)      256       \n",
            "_________________________________________________________________\n",
            "activation_3 (Activation)    (None, 129, 270, 64)      0         \n",
            "_________________________________________________________________\n",
            "conv2d_8 (Conv2D)            (None, 129, 270, 64)      36928     \n",
            "_________________________________________________________________\n",
            "up_sampling2d_1 (UpSampling2 (None, 258, 540, 64)      0         \n",
            "_________________________________________________________________\n",
            "conv2d_9 (Conv2D)            (None, 258, 540, 1)       577       \n",
            "=================================================================\n",
            "Total params: 260,929\n",
            "Trainable params: 260,545\n",
            "Non-trainable params: 384\n",
            "_________________________________________________________________\n"
          ],
          "name": "stdout"
        }
      ]
    },
    {
      "cell_type": "code",
      "metadata": {
        "id": "nHHcoToKtTFU"
      },
      "source": [
        "x_data_cae = []\n",
        "\n",
        "for i in range(len(x_train)):\n",
        "    check = x_train[i]\n",
        "    matrix=conv_ae_model.predict(check.reshape((1,)+check.shape)).reshape(258,540)\n",
        "    x_data_cae.append(matrix)"
      ],
      "execution_count": 12,
      "outputs": []
    },
    {
      "cell_type": "code",
      "metadata": {
        "colab": {
          "base_uri": "https://localhost:8080/"
        },
        "id": "8DY9SkVQugNj",
        "outputId": "3997b3eb-4843-43f8-87d3-13d479bf1bc2"
      },
      "source": [
        "x_data_cae =np.array(x_data_cae)\n",
        "x_data_cae.shape"
      ],
      "execution_count": 13,
      "outputs": [
        {
          "output_type": "execute_result",
          "data": {
            "text/plain": [
              "(480, 258, 540)"
            ]
          },
          "metadata": {
            "tags": []
          },
          "execution_count": 13
        }
      ]
    },
    {
      "cell_type": "markdown",
      "metadata": {
        "id": "ymw_Dc1zhGXx"
      },
      "source": [
        "## Stacking"
      ]
    },
    {
      "cell_type": "code",
      "metadata": {
        "colab": {
          "base_uri": "https://localhost:8080/"
        },
        "id": "oGw19hHwhJYZ",
        "outputId": "29f49279-3852-4113-d412-6bb902bfde15"
      },
      "source": [
        "data = np.stack((np.squeeze(x_train), x_data_med, x_data_cae), axis=3)\n",
        "data.shape"
      ],
      "execution_count": 14,
      "outputs": [
        {
          "output_type": "execute_result",
          "data": {
            "text/plain": [
              "(480, 258, 540, 3)"
            ]
          },
          "metadata": {
            "tags": []
          },
          "execution_count": 14
        }
      ]
    },
    {
      "cell_type": "markdown",
      "metadata": {
        "id": "F7ic5wzbTGVG"
      },
      "source": [
        "## CNN Stacker"
      ]
    },
    {
      "cell_type": "code",
      "metadata": {
        "id": "fo8QRIVYScQO",
        "colab": {
          "base_uri": "https://localhost:8080/"
        },
        "outputId": "fad9c525-fc0f-47d6-aa91-201ffc703f78"
      },
      "source": [
        "opt = optimizers.RMSprop(learning_rate=0.001) \n",
        "model = Sequential()\n",
        "\n",
        "model.add(Conv2D(64, (3, 3), padding='same',input_shape=(258,540,3),data_format=\"channels_last\"))\n",
        "model.add(BatchNormalization())\n",
        "model.add(Activation(activations.relu))\n",
        "\n",
        "model.add(Conv2D(32, (3, 3), padding='same', ))\n",
        "model.add(BatchNormalization())\n",
        "model.add(Activation(activations.relu))\n",
        "\n",
        "model.add(Conv2D(16, (3, 3), padding='same', ))\n",
        "model.add(BatchNormalization())\n",
        "model.add(Activation(activations.relu))\n",
        "\n",
        "model.add(Conv2D(32, (3, 3), padding='same', ))\n",
        "model.add(BatchNormalization())\n",
        "model.add(Activation(activations.relu))\n",
        "\n",
        "model.add(Conv2D(64, (3, 3), padding='same', ))\n",
        "model.add(Activation(activations.relu))\n",
        "\n",
        "model.add(Conv2D(1, (3, 3), activation=tf.keras.backend.sigmoid, padding='same'))\n",
        "model.compile(loss=\"mean_squared_error\",optimizer=opt, metrics = [tf.keras.metrics.RootMeanSquaredError()])\n",
        "print(model.summary())\n",
        "\n",
        "    \n",
        "model.fit(data,\n",
        "          y_train,\n",
        "          epochs = 60,\n",
        "          batch_size = 7,\n",
        "          validation_split=0.1,          \n",
        "          verbose=1) "
      ],
      "execution_count": 15,
      "outputs": [
        {
          "output_type": "stream",
          "text": [
            "Model: \"sequential\"\n",
            "_________________________________________________________________\n",
            "Layer (type)                 Output Shape              Param #   \n",
            "=================================================================\n",
            "conv2d (Conv2D)              (None, 258, 540, 64)      1792      \n",
            "_________________________________________________________________\n",
            "batch_normalization (BatchNo (None, 258, 540, 64)      256       \n",
            "_________________________________________________________________\n",
            "activation (Activation)      (None, 258, 540, 64)      0         \n",
            "_________________________________________________________________\n",
            "conv2d_1 (Conv2D)            (None, 258, 540, 32)      18464     \n",
            "_________________________________________________________________\n",
            "batch_normalization_1 (Batch (None, 258, 540, 32)      128       \n",
            "_________________________________________________________________\n",
            "activation_1 (Activation)    (None, 258, 540, 32)      0         \n",
            "_________________________________________________________________\n",
            "conv2d_2 (Conv2D)            (None, 258, 540, 16)      4624      \n",
            "_________________________________________________________________\n",
            "batch_normalization_2 (Batch (None, 258, 540, 16)      64        \n",
            "_________________________________________________________________\n",
            "activation_2 (Activation)    (None, 258, 540, 16)      0         \n",
            "_________________________________________________________________\n",
            "conv2d_3 (Conv2D)            (None, 258, 540, 32)      4640      \n",
            "_________________________________________________________________\n",
            "batch_normalization_3 (Batch (None, 258, 540, 32)      128       \n",
            "_________________________________________________________________\n",
            "activation_3 (Activation)    (None, 258, 540, 32)      0         \n",
            "_________________________________________________________________\n",
            "conv2d_4 (Conv2D)            (None, 258, 540, 64)      18496     \n",
            "_________________________________________________________________\n",
            "activation_4 (Activation)    (None, 258, 540, 64)      0         \n",
            "_________________________________________________________________\n",
            "conv2d_5 (Conv2D)            (None, 258, 540, 1)       577       \n",
            "=================================================================\n",
            "Total params: 49,169\n",
            "Trainable params: 48,881\n",
            "Non-trainable params: 288\n",
            "_________________________________________________________________\n",
            "None\n",
            "Epoch 1/60\n",
            "62/62 [==============================] - 17s 219ms/step - loss: 0.0187 - root_mean_squared_error: 0.1256 - val_loss: 0.0561 - val_root_mean_squared_error: 0.2368\n",
            "Epoch 2/60\n",
            "62/62 [==============================] - 10s 167ms/step - loss: 0.0022 - root_mean_squared_error: 0.0464 - val_loss: 0.0505 - val_root_mean_squared_error: 0.2247\n",
            "Epoch 3/60\n",
            "62/62 [==============================] - 10s 168ms/step - loss: 0.0016 - root_mean_squared_error: 0.0403 - val_loss: 0.0340 - val_root_mean_squared_error: 0.1844\n",
            "Epoch 4/60\n",
            "62/62 [==============================] - 10s 168ms/step - loss: 0.0014 - root_mean_squared_error: 0.0373 - val_loss: 0.0254 - val_root_mean_squared_error: 0.1593\n",
            "Epoch 5/60\n",
            "62/62 [==============================] - 10s 168ms/step - loss: 0.0012 - root_mean_squared_error: 0.0343 - val_loss: 0.0157 - val_root_mean_squared_error: 0.1252\n",
            "Epoch 6/60\n",
            "62/62 [==============================] - 10s 169ms/step - loss: 8.9529e-04 - root_mean_squared_error: 0.0299 - val_loss: 0.0064 - val_root_mean_squared_error: 0.0802\n",
            "Epoch 7/60\n",
            "62/62 [==============================] - 11s 170ms/step - loss: 8.6957e-04 - root_mean_squared_error: 0.0295 - val_loss: 0.0061 - val_root_mean_squared_error: 0.0782\n",
            "Epoch 8/60\n",
            "62/62 [==============================] - 11s 170ms/step - loss: 7.9553e-04 - root_mean_squared_error: 0.0282 - val_loss: 0.0024 - val_root_mean_squared_error: 0.0487\n",
            "Epoch 9/60\n",
            "62/62 [==============================] - 11s 170ms/step - loss: 7.1573e-04 - root_mean_squared_error: 0.0267 - val_loss: 8.8949e-04 - val_root_mean_squared_error: 0.0298\n",
            "Epoch 10/60\n",
            "62/62 [==============================] - 11s 170ms/step - loss: 6.9406e-04 - root_mean_squared_error: 0.0263 - val_loss: 6.5774e-04 - val_root_mean_squared_error: 0.0256\n",
            "Epoch 11/60\n",
            "62/62 [==============================] - 11s 170ms/step - loss: 6.2750e-04 - root_mean_squared_error: 0.0250 - val_loss: 5.7624e-04 - val_root_mean_squared_error: 0.0240\n",
            "Epoch 12/60\n",
            "62/62 [==============================] - 11s 170ms/step - loss: 6.4778e-04 - root_mean_squared_error: 0.0254 - val_loss: 5.0296e-04 - val_root_mean_squared_error: 0.0224\n",
            "Epoch 13/60\n",
            "62/62 [==============================] - 11s 171ms/step - loss: 6.0277e-04 - root_mean_squared_error: 0.0245 - val_loss: 0.0011 - val_root_mean_squared_error: 0.0333\n",
            "Epoch 14/60\n",
            "62/62 [==============================] - 11s 171ms/step - loss: 5.8444e-04 - root_mean_squared_error: 0.0242 - val_loss: 4.9110e-04 - val_root_mean_squared_error: 0.0222\n",
            "Epoch 15/60\n",
            "62/62 [==============================] - 11s 171ms/step - loss: 5.6155e-04 - root_mean_squared_error: 0.0237 - val_loss: 6.1464e-04 - val_root_mean_squared_error: 0.0248\n",
            "Epoch 16/60\n",
            "62/62 [==============================] - 11s 171ms/step - loss: 5.5419e-04 - root_mean_squared_error: 0.0235 - val_loss: 6.6520e-04 - val_root_mean_squared_error: 0.0258\n",
            "Epoch 17/60\n",
            "62/62 [==============================] - 11s 172ms/step - loss: 5.5286e-04 - root_mean_squared_error: 0.0235 - val_loss: 5.1259e-04 - val_root_mean_squared_error: 0.0226\n",
            "Epoch 18/60\n",
            "62/62 [==============================] - 11s 171ms/step - loss: 5.0924e-04 - root_mean_squared_error: 0.0226 - val_loss: 8.8070e-04 - val_root_mean_squared_error: 0.0297\n",
            "Epoch 19/60\n",
            "62/62 [==============================] - 11s 172ms/step - loss: 5.1648e-04 - root_mean_squared_error: 0.0227 - val_loss: 6.9195e-04 - val_root_mean_squared_error: 0.0263\n",
            "Epoch 20/60\n",
            "62/62 [==============================] - 11s 172ms/step - loss: 4.7088e-04 - root_mean_squared_error: 0.0217 - val_loss: 5.1640e-04 - val_root_mean_squared_error: 0.0227\n",
            "Epoch 21/60\n",
            "62/62 [==============================] - 11s 172ms/step - loss: 4.7155e-04 - root_mean_squared_error: 0.0217 - val_loss: 9.3800e-04 - val_root_mean_squared_error: 0.0306\n",
            "Epoch 22/60\n",
            "62/62 [==============================] - 11s 172ms/step - loss: 4.8689e-04 - root_mean_squared_error: 0.0221 - val_loss: 3.8203e-04 - val_root_mean_squared_error: 0.0195\n",
            "Epoch 23/60\n",
            "62/62 [==============================] - 11s 173ms/step - loss: 4.6247e-04 - root_mean_squared_error: 0.0215 - val_loss: 5.1384e-04 - val_root_mean_squared_error: 0.0227\n",
            "Epoch 24/60\n",
            "62/62 [==============================] - 11s 172ms/step - loss: 4.5247e-04 - root_mean_squared_error: 0.0213 - val_loss: 4.9922e-04 - val_root_mean_squared_error: 0.0223\n",
            "Epoch 25/60\n",
            "62/62 [==============================] - 11s 172ms/step - loss: 4.3369e-04 - root_mean_squared_error: 0.0208 - val_loss: 9.2778e-04 - val_root_mean_squared_error: 0.0305\n",
            "Epoch 26/60\n",
            "62/62 [==============================] - 11s 172ms/step - loss: 4.5616e-04 - root_mean_squared_error: 0.0214 - val_loss: 4.2343e-04 - val_root_mean_squared_error: 0.0206\n",
            "Epoch 27/60\n",
            "62/62 [==============================] - 11s 173ms/step - loss: 4.5536e-04 - root_mean_squared_error: 0.0213 - val_loss: 5.8804e-04 - val_root_mean_squared_error: 0.0242\n",
            "Epoch 28/60\n",
            "62/62 [==============================] - 11s 173ms/step - loss: 4.4720e-04 - root_mean_squared_error: 0.0211 - val_loss: 5.6139e-04 - val_root_mean_squared_error: 0.0237\n",
            "Epoch 29/60\n",
            "62/62 [==============================] - 11s 172ms/step - loss: 4.2690e-04 - root_mean_squared_error: 0.0207 - val_loss: 3.8480e-04 - val_root_mean_squared_error: 0.0196\n",
            "Epoch 30/60\n",
            "62/62 [==============================] - 11s 172ms/step - loss: 4.1895e-04 - root_mean_squared_error: 0.0205 - val_loss: 5.3377e-04 - val_root_mean_squared_error: 0.0231\n",
            "Epoch 31/60\n",
            "62/62 [==============================] - 11s 173ms/step - loss: 3.8966e-04 - root_mean_squared_error: 0.0197 - val_loss: 3.3331e-04 - val_root_mean_squared_error: 0.0183\n",
            "Epoch 32/60\n",
            "62/62 [==============================] - 11s 173ms/step - loss: 4.3836e-04 - root_mean_squared_error: 0.0209 - val_loss: 4.5128e-04 - val_root_mean_squared_error: 0.0212\n",
            "Epoch 33/60\n",
            "62/62 [==============================] - 11s 173ms/step - loss: 3.9275e-04 - root_mean_squared_error: 0.0198 - val_loss: 4.3480e-04 - val_root_mean_squared_error: 0.0209\n",
            "Epoch 34/60\n",
            "62/62 [==============================] - 11s 173ms/step - loss: 4.0999e-04 - root_mean_squared_error: 0.0202 - val_loss: 4.4612e-04 - val_root_mean_squared_error: 0.0211\n",
            "Epoch 35/60\n",
            "62/62 [==============================] - 11s 172ms/step - loss: 4.1019e-04 - root_mean_squared_error: 0.0202 - val_loss: 5.8482e-04 - val_root_mean_squared_error: 0.0242\n",
            "Epoch 36/60\n",
            "62/62 [==============================] - 11s 173ms/step - loss: 4.2491e-04 - root_mean_squared_error: 0.0206 - val_loss: 5.5677e-04 - val_root_mean_squared_error: 0.0236\n",
            "Epoch 37/60\n",
            "62/62 [==============================] - 11s 173ms/step - loss: 4.1561e-04 - root_mean_squared_error: 0.0204 - val_loss: 8.4890e-04 - val_root_mean_squared_error: 0.0291\n",
            "Epoch 38/60\n",
            "62/62 [==============================] - 11s 173ms/step - loss: 3.9469e-04 - root_mean_squared_error: 0.0198 - val_loss: 4.1934e-04 - val_root_mean_squared_error: 0.0205\n",
            "Epoch 39/60\n",
            "62/62 [==============================] - 11s 173ms/step - loss: 3.7199e-04 - root_mean_squared_error: 0.0193 - val_loss: 3.7061e-04 - val_root_mean_squared_error: 0.0193\n",
            "Epoch 40/60\n",
            "62/62 [==============================] - 11s 173ms/step - loss: 3.7239e-04 - root_mean_squared_error: 0.0193 - val_loss: 3.4812e-04 - val_root_mean_squared_error: 0.0187\n",
            "Epoch 41/60\n",
            "62/62 [==============================] - 11s 173ms/step - loss: 3.7252e-04 - root_mean_squared_error: 0.0193 - val_loss: 3.2428e-04 - val_root_mean_squared_error: 0.0180\n",
            "Epoch 42/60\n",
            "62/62 [==============================] - 11s 172ms/step - loss: 3.7528e-04 - root_mean_squared_error: 0.0194 - val_loss: 5.3413e-04 - val_root_mean_squared_error: 0.0231\n",
            "Epoch 43/60\n",
            "62/62 [==============================] - 11s 173ms/step - loss: 4.1148e-04 - root_mean_squared_error: 0.0203 - val_loss: 3.2876e-04 - val_root_mean_squared_error: 0.0181\n",
            "Epoch 44/60\n",
            "62/62 [==============================] - 11s 173ms/step - loss: 3.7300e-04 - root_mean_squared_error: 0.0193 - val_loss: 3.3738e-04 - val_root_mean_squared_error: 0.0184\n",
            "Epoch 45/60\n",
            "62/62 [==============================] - 11s 173ms/step - loss: 3.6859e-04 - root_mean_squared_error: 0.0192 - val_loss: 4.6995e-04 - val_root_mean_squared_error: 0.0217\n",
            "Epoch 46/60\n",
            "62/62 [==============================] - 11s 173ms/step - loss: 3.8640e-04 - root_mean_squared_error: 0.0196 - val_loss: 3.2658e-04 - val_root_mean_squared_error: 0.0181\n",
            "Epoch 47/60\n",
            "62/62 [==============================] - 11s 173ms/step - loss: 3.5055e-04 - root_mean_squared_error: 0.0187 - val_loss: 4.8486e-04 - val_root_mean_squared_error: 0.0220\n",
            "Epoch 48/60\n",
            "62/62 [==============================] - 11s 173ms/step - loss: 3.2948e-04 - root_mean_squared_error: 0.0181 - val_loss: 3.3678e-04 - val_root_mean_squared_error: 0.0184\n",
            "Epoch 49/60\n",
            "62/62 [==============================] - 11s 172ms/step - loss: 3.7369e-04 - root_mean_squared_error: 0.0193 - val_loss: 4.1463e-04 - val_root_mean_squared_error: 0.0204\n",
            "Epoch 50/60\n",
            "62/62 [==============================] - 11s 173ms/step - loss: 3.4951e-04 - root_mean_squared_error: 0.0187 - val_loss: 4.6536e-04 - val_root_mean_squared_error: 0.0216\n",
            "Epoch 51/60\n",
            "62/62 [==============================] - 11s 173ms/step - loss: 3.7140e-04 - root_mean_squared_error: 0.0193 - val_loss: 6.7438e-04 - val_root_mean_squared_error: 0.0260\n",
            "Epoch 52/60\n",
            "62/62 [==============================] - 11s 173ms/step - loss: 3.8714e-04 - root_mean_squared_error: 0.0196 - val_loss: 4.0190e-04 - val_root_mean_squared_error: 0.0200\n",
            "Epoch 53/60\n",
            "62/62 [==============================] - 11s 173ms/step - loss: 3.5855e-04 - root_mean_squared_error: 0.0189 - val_loss: 5.8842e-04 - val_root_mean_squared_error: 0.0243\n",
            "Epoch 54/60\n",
            "62/62 [==============================] - 11s 173ms/step - loss: 3.5975e-04 - root_mean_squared_error: 0.0189 - val_loss: 6.5008e-04 - val_root_mean_squared_error: 0.0255\n",
            "Epoch 55/60\n",
            "62/62 [==============================] - 11s 173ms/step - loss: 3.3502e-04 - root_mean_squared_error: 0.0183 - val_loss: 3.0750e-04 - val_root_mean_squared_error: 0.0175\n",
            "Epoch 56/60\n",
            "62/62 [==============================] - 11s 173ms/step - loss: 3.1499e-04 - root_mean_squared_error: 0.0177 - val_loss: 3.4437e-04 - val_root_mean_squared_error: 0.0186\n",
            "Epoch 57/60\n",
            "62/62 [==============================] - 11s 173ms/step - loss: 3.1402e-04 - root_mean_squared_error: 0.0177 - val_loss: 3.4115e-04 - val_root_mean_squared_error: 0.0185\n",
            "Epoch 58/60\n",
            "62/62 [==============================] - 11s 173ms/step - loss: 3.3600e-04 - root_mean_squared_error: 0.0183 - val_loss: 4.6583e-04 - val_root_mean_squared_error: 0.0216\n",
            "Epoch 59/60\n",
            "62/62 [==============================] - 11s 173ms/step - loss: 3.2281e-04 - root_mean_squared_error: 0.0180 - val_loss: 4.5031e-04 - val_root_mean_squared_error: 0.0212\n",
            "Epoch 60/60\n",
            "62/62 [==============================] - 11s 173ms/step - loss: 3.1730e-04 - root_mean_squared_error: 0.0178 - val_loss: 3.9312e-04 - val_root_mean_squared_error: 0.0198\n"
          ],
          "name": "stdout"
        },
        {
          "output_type": "execute_result",
          "data": {
            "text/plain": [
              "<tensorflow.python.keras.callbacks.History at 0x7f834bf6cc10>"
            ]
          },
          "metadata": {
            "tags": []
          },
          "execution_count": 15
        }
      ]
    },
    {
      "cell_type": "markdown",
      "metadata": {
        "id": "ZRkx1pbuKS26"
      },
      "source": [
        "## Evaluation"
      ]
    },
    {
      "cell_type": "code",
      "metadata": {
        "id": "UQJD3b3MScSd"
      },
      "source": [
        "x_data_test = []\n",
        "y_data_test = []\n",
        "\n",
        "def loadmydatatest():\n",
        "    for item in os.listdir('/content/drive/MyDrive/Explomy/Final_data/x_test'):\n",
        "\n",
        "        os.chdir('/content/drive/MyDrive/Explomy/Final_data/x_test')\n",
        "        img = load_img(item)\n",
        "        #img = img.resize((540,258)) \n",
        "        arr = img_to_array(img)\n",
        "        x_data_test.append(arr)\n",
        "\n",
        "        os.chdir('/content/drive/MyDrive/Explomy/Final_data/y_test')\n",
        "        img = load_img(item)\n",
        "        #img = img.resize((540,258))\n",
        "        arr = img_to_array(img)\n",
        "        y_data_test.append(arr)  \n",
        "\n",
        "loadmydatatest()\n",
        "\n",
        "x_data_test = tf.image.rgb_to_grayscale(x_data_test)\n",
        "y_data_test = tf.image.rgb_to_grayscale(y_data_test)"
      ],
      "execution_count": 16,
      "outputs": []
    },
    {
      "cell_type": "code",
      "metadata": {
        "colab": {
          "base_uri": "https://localhost:8080/"
        },
        "id": "eyrCCoPXScUf",
        "outputId": "ae227f0f-c79f-4095-e3ba-30f771888d5b"
      },
      "source": [
        "print(x_data_test[0].shape, y_data_test[0].shape)\n",
        "x_data_test.shape"
      ],
      "execution_count": 17,
      "outputs": [
        {
          "output_type": "stream",
          "text": [
            "(258, 540, 1) (258, 540, 1)\n"
          ],
          "name": "stdout"
        },
        {
          "output_type": "execute_result",
          "data": {
            "text/plain": [
              "TensorShape([24, 258, 540, 1])"
            ]
          },
          "metadata": {
            "tags": []
          },
          "execution_count": 17
        }
      ]
    },
    {
      "cell_type": "code",
      "metadata": {
        "id": "cjs2DqyWScV8"
      },
      "source": [
        "x_test = preprocess(x_data_test)\n",
        "y_test = preprocess(y_data_test)"
      ],
      "execution_count": 18,
      "outputs": []
    },
    {
      "cell_type": "code",
      "metadata": {
        "colab": {
          "base_uri": "https://localhost:8080/"
        },
        "id": "IUwXDb4_z4Hb",
        "outputId": "23a75fa4-8098-4ab0-fde5-2d71fa6dfcc0"
      },
      "source": [
        "\n",
        "from sklearn.metrics import mean_squared_error\n",
        "rms=0\n",
        "\n",
        "x_t = np.squeeze(x_test)\n",
        "y_t = np.squeeze(y_test)\n",
        "\n",
        "for i in range(len(x_test)):\n",
        "    check1 = x_test[i]\n",
        "\n",
        "    arr  = x_t[i] \n",
        "    #arr1 = adaptive(x_t[i])\n",
        "    arr2 = medianfilter(x_t[i])\n",
        "    matrix=conv_ae_model.predict(check1.reshape((1,)+check1.shape)).reshape(258,540)\n",
        "    check = np.stack((arr, arr2, matrix), axis=2)\n",
        "\n",
        "    matrix=model.predict(check.reshape((1,)+check.shape)).reshape(258,540,1)\n",
        "    matrix = np.squeeze(matrix)\n",
        "    rms += mean_squared_error(y_t[i], matrix, squared=False)\n",
        "\n",
        "rms/=len(x_test)\n",
        "rms"
      ],
      "execution_count": 19,
      "outputs": [
        {
          "output_type": "execute_result",
          "data": {
            "text/plain": [
              "0.019544186691443127"
            ]
          },
          "metadata": {
            "tags": []
          },
          "execution_count": 19
        }
      ]
    }
  ]
}